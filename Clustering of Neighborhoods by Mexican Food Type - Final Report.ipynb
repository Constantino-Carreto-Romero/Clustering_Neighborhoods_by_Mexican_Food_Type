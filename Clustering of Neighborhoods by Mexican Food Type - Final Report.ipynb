{
 "cells": [
  {
   "cell_type": "markdown",
   "metadata": {},
   "source": [
    "# Clustering of Neighborhoods by Mexican Food Type: Final Report"
   ]
  },
  {
   "cell_type": "markdown",
   "metadata": {},
   "source": [
    "## 1. Introduction"
   ]
  },
  {
   "cell_type": "markdown",
   "metadata": {},
   "source": [
    "Let's say we are in the food business, specifically, Mexican street food (e.g. tacos, tortas, pizza, etc.) and we want to start new branches in Mexico City. How can we decide where to place our new branches? We would like to avoid high competition, but at the same time, we want to be in places with great demand for our type of food. If for instance, we want to sell tacos, what locations in the city might be the best to place our branches?\n",
    "\n",
    "To try to answer these questions, I cluster neighborhoods in Mexico City according to the presence of a couple of Mexican food types: quesadillas, tacos, pizza, tortas, and hamburgers. To collect this data I use the Foursquare API. Then, I implement k-means clustering to group neighborhoods into clusters that help to identify neighborhoods where a type of food is preferred. This will indicate where there is high competition in certain food types and where there is a high demand for that food type."
   ]
  },
  {
   "cell_type": "markdown",
   "metadata": {},
   "source": [
    "## 2. Data"
   ]
  },
  {
   "cell_type": "markdown",
   "metadata": {},
   "source": [
    "1. We firstly collect postal codes for Mexico City from the Mexican Postal Service's website:\n",
    "\n",
    "* https://www.correosdemexico.gob.mx/SSLServicios/ConsultaCP/CodigoPostal_Exportar.aspx\n",
    "\n",
    "    This data is used to obtain geo-coordinates for each neighborhood in Mexico City by using the _pgeocode_ library.\n",
    "    \n",
    "    A sample of these data looks like this:\n",
    "    \n",
    "    \n",
    "| Index | Postal Code | Neighborhood    | Borough                        | Latitude | Longitude |\n",
    "|-------|-------------|-----------------|--------------------------------|----------|-----------|\n",
    "| 0     | 01000       | San Ángel       | Álvaro Obregón                 | 19.3587  | -99.20330 |\n",
    "| 1     | 01010       | Los Alpes       | Álvaro Obregón                 | 19.3569  | -99.21000 |\n",
    "| 2     | 01020       | Guadalupe Inn   | Álvaro Obregón                 | 19.5161  | -99.14190 |\n",
    "| 3     | 01030       | Axotla, Florida | Álvaro Obregón, Álvaro Obregón | 19.3556  | -99.17835 |\n",
    "| 4     | 01040       | Campestre       | Álvaro Obregón                 | 19.3556  | -99.19180 |\n",
    "    \n",
    "    \n",
    "2. Once we have postal codes for each negihborhood, we use the [Foursquare API](https://developer.foursquare.com/developer/) to collect trending venues in each neighborhood. \n",
    "    This dataset looks like this:\n",
    "    \n",
    "    \n",
    "| Index | Neighborhood     | Borough | Neighborhood Latitude | Neighborhood Longitude | Venue                           | Latitude  | Longitude  | Venue Category     |\n",
    "|-------|------------------|---------|-----------------------|------------------------|---------------------------------|-----------|------------|--------------------|\n",
    "| 22103 | San Pedro Mártir | Tlalpan | 19.2665               | -99.17                 | Centro de nutrición Casa Blanca | 19.265388 | -99.167554 | Athletics & Sports |\n",
    "| 22104 | San Pedro Mártir | Tlalpan | 19.2665               | -99.17                 | Las Quekas De \"Don Fer\"         | 19.265361 | -99.167104 | Snack Place        |\n",
    "| 22105 | San Pedro Mártir | Tlalpan | 19.2665               | -99.17                 | Café Añu                        | 19.265204 | -99.166857 | Snack Place        |\n",
    "| 22106 | San Pedro Mártir | Tlalpan | 19.2665               | -99.17                 | The Food Stop                   | 19.268408 | -99.166852 | Food Truck         |\n",
    "| 22107 | San Pedro Mártir | Tlalpan | 19.2665               | -99.17                 | Aqua Sur                        | 19.265319 | -99.165622 | Gym Pool           |       |\n",
    "    \n",
    "    \n",
    "    \n",
    "   \n",
    "   We clean the resulting dataset to keep only mexican food venues. This final dataset is the input for our clustering analysis."
   ]
  },
  {
   "cell_type": "markdown",
   "metadata": {},
   "source": [
    "## 3. Methodology"
   ]
  },
  {
   "cell_type": "markdown",
   "metadata": {},
   "source": [
    "#### Data analysis"
   ]
  },
  {
   "cell_type": "markdown",
   "metadata": {},
   "source": [
    "When analyzing our Foursquare dataset, regarding food category frecuencies, we note in the next graph that tacos is by far the most common food type:\n",
    "\n",
    "<img src=\"./frecuency.png\"\n",
    "     alt=\"Markdown Monster icon\"\n",
    "     style=\"float: left; margin-right: 5px;\"\n",
    "     width=\"500\" height=\"500\" />\n"
   ]
  },
  {
   "cell_type": "markdown",
   "metadata": {},
   "source": [
    "After cleaning our Foursquare dataset, we obtain our final dataset which is the input for our cluster analysis. This final dataset looks like this:\n",
    "\n",
    "\n",
    "| Index | Neighborhood                                      | burgers | pizza | quesadillas | tacos    | tortas   |\n",
    "|-------|---------------------------------------------------|---------|-------|-------------|----------|----------|\n",
    "| 0     | 10 de Abril                                       | 0.25    | 0.0   | 0.0         | 0.500000 | 0.250000 |\n",
    "| 1     | 12 de Diciembre, San Andrés Tomatlán, San Andr... | 0.25    | 0.0   | 0.0         | 0.750000 | 0.000000 |\n",
    "| 2     | 15 de Agosto                                      | 0.00    | 0.0   | 0.0         | 1.000000 | 0.000000 |\n",
    "| 3     | 16 de Septiembre                                  | 0.20    | 0.0   | 0.0         | 0.800000 | 0.000000 |\n",
    "| 4     | 1a Sección Cañada, 2a Sección Cañada              | 0.00    | 0.0   | 0.0         | 0.857143 | 0.142857 |\n",
    "\n",
    "\n",
    "Where every food column indicates the proportion of ocurrencies of that food type in the total of food places in every neighborhood (i.e. its representativeness). For instance, for the first neighborhood in our dataset, out of all its food places, 25% sell hamburgers, 50% tacos, and 25% tortas. "
   ]
  },
  {
   "cell_type": "markdown",
   "metadata": {},
   "source": [
    "#### Machine Learning Approach\n",
    "Once the dataframe is cleaned and we have done exploration about the frecuency of each food category, I implement k-means clustering. I decided to apply k-means clustering since we want to categorize neighborhoods, but we don't have a given classification. Additionally, k-means clustering is easy to implement and computationally eficient.\n",
    "\n",
    "Before instantiate k-means cluster we must decide which number of cluster is optimun. To decide so, I use the elbow method, based on the sum of squared distances of samples to the nearest cluster centre."
   ]
  },
  {
   "cell_type": "markdown",
   "metadata": {},
   "source": [
    "In the next graph I show this measure for variuous cluster numbers, based on which we find the best cluster number is k=5.\n",
    "\n",
    "\n",
    "<img src=\"./elbow.png\"\n",
    "     alt=\"Markdown Monster icon\"\n",
    "     style=\"float: left; margin-right: 5px;\"\n",
    "     width=\"500\" height=\"500\" />"
   ]
  },
  {
   "cell_type": "markdown",
   "metadata": {},
   "source": [
    "I then estimate clusters for k=5. Ocurrencies per cluster are show in the next table:\n",
    "\n",
    "\n",
    "| Cluster | Occurrencies |\n",
    "|---------|--------------|\n",
    "| 0       | 390          |\n",
    "| 1       | 215          |\n",
    "| 4       | 102          |\n",
    "| 2       | 75           |\n",
    "| 3       | 28           |"
   ]
  },
  {
   "cell_type": "markdown",
   "metadata": {},
   "source": [
    "Before analysing each cluster characteristics, we do some graphical analysis to verify an appropiate grouping of observations.\n",
    "\n",
    "In the next figure we can see there seems to be an appropiate grouping per cluster. Besides, we can start to note some insights. For instance, in cluster 0, the is a predominance of tacos, while in cluster 1 pizza places are more common.\n",
    "\n",
    "<img src=\"./2d.png\"\n",
    "     alt=\"Markdown Monster icon\"\n",
    "     style=\"float: left; margin-right: 5px;\"\n",
    "     width=\"500\" height=\"500\" />"
   ]
  },
  {
   "cell_type": "markdown",
   "metadata": {},
   "source": [
    "When adding a thrid food category, we note in the next figure that, for instance, cluster 2 is somewhere beetween cluster 0 and cluster 1, meaning a more balanced combination of tacos, pizza, and tortas places.\n",
    "\n",
    "<img src=\"./3d.png\"\n",
    "     alt=\"Markdown Monster icon\"\n",
    "     style=\"float: left; margin-right: 5px;\"\n",
    "     width=\"500\" height=\"500\" />"
   ]
  },
  {
   "cell_type": "markdown",
   "metadata": {},
   "source": [
    "To acctually visualize the geographical distribution of clusters, we plot the next map, centerd in Mexico City. This will help to effectively know where we will place our potential new branches. Colors for each cluster are the same as the previous graphs."
   ]
  },
  {
   "cell_type": "markdown",
   "metadata": {},
   "source": [
    "<img src=\"./map.png\"\n",
    "     alt=\"Markdown Monster icon\"\n",
    "     style=\"float: left; margin-right: 5px;\"\n",
    "     width=\"900\" height=\"900\" />"
   ]
  },
  {
   "cell_type": "markdown",
   "metadata": {},
   "source": [
    "## 4. Results"
   ]
  },
  {
   "cell_type": "markdown",
   "metadata": {},
   "source": [
    "In what follows, I analyze each cluster based on its food type predominance.\n",
    "\n",
    "In the next table I start by presenting the percent of predominance of each food type.\n",
    "\n",
    "\n",
    "\n",
    "| Clus_km | burgers  | pizza    | quesadillas | tacos    | tortas   |\n",
    "|---------|----------|----------|-------------|----------|----------|\n",
    "| 0       | 0.063307 | 0.039313 | 0.018002    | 0.875768 | 0.003609 |\n",
    "| 1       | 0.134216 | 0.409322 | 0.010247    | 0.441836 | 0.004378 |\n",
    "| 2       | 0.700968 | 0.024325 | 0.004167    | 0.26454  | 0.006    |\n",
    "| 3       | 0.077381 | 0.083333 | 0.52381     | 0.315476 | 0        |\n",
    "| 4       | 0.087537 | 0.109599 | 0.016388    | 0.543003 | 0.243473 |"
   ]
  },
  {
   "cell_type": "markdown",
   "metadata": {},
   "source": [
    "#### Cluster 0\n",
    "This is the most common cluster. We note it is characterized by a overwhelming presence of tacos venues. In the map above we don't see any important geo-pattern in its distribution since all neighborhoods belonging to this cluster are uniformly distribuited across the city. Nontheless, we see some dense zones, with importat presence of cluster 0."
   ]
  },
  {
   "cell_type": "markdown",
   "metadata": {},
   "source": [
    "#### Cluster 1\n",
    "This is the second most common cluster. We note it is characterized by a predominance of pizza and tacos bussinesses. The other food types remain weakly represented. In the map above we don't see any geo-pattern since this cluster is uniformly distribuited across the city. Nontheless, alike to cluster 0, we note some zones with high predominance and grouping of cluster 1."
   ]
  },
  {
   "cell_type": "markdown",
   "metadata": {},
   "source": [
    "#### Cluster 2\n",
    "This cluster is the second less common. We note it is characterized by a important predominance of hamburger places with a weaker presence of tacos. The other food types are not importantly present. Likewise, we don't see any geo-pattern."
   ]
  },
  {
   "cell_type": "markdown",
   "metadata": {},
   "source": [
    "#### Cluster 3\n",
    "This is the less common cluster. We note it is characterized by an important predominance of quesadillas bussinesses with a weaker presence of tacos. The other food types are not importantly present. Likewise, we don't see any geo-pattern."
   ]
  },
  {
   "cell_type": "markdown",
   "metadata": {},
   "source": [
    "#### Cluster 4\n",
    "This is the 3rd most common cluster. We note it is characterized by an important predominance of tacos bussiness with a weaker presence of tortas and pizza. The other food types are not importantly present. For this cluster we see a geo-pattern, where most of branches place in the city center."
   ]
  },
  {
   "cell_type": "markdown",
   "metadata": {},
   "source": [
    "## 5. Discussion"
   ]
  },
  {
   "cell_type": "markdown",
   "metadata": {},
   "source": [
    "So far I carried out an analysis well structured enough to be useful for food businesses to decide where to start a new branch in the city. Nonetheless, we must be cautious with some limitations. As mentioned before, to find that a certain type of food is predominant in a neighborhood and that there are a lot of businesses that sell that food type, also implies that there is high competition in that economic market in that neighborhood. In other words, if for instance in a neighborhood is preferred pizza over the rest of the food types, it is suggestive but not indicative that we should place our new business in that neighborhood. Competition might be really high in that market that the entrance might no be feasible. Therefore, a final decision on whether a neighborhood is suitable to start a new branch must come accompanied by a market analysis about the competition conditions in that neighborhood."
   ]
  },
  {
   "cell_type": "markdown",
   "metadata": {},
   "source": [
    "## 6. Conclusions"
   ]
  },
  {
   "cell_type": "markdown",
   "metadata": {},
   "source": [
    "We have identified neighborhhods by the prdominance of certain mexican food: hamburgers, pizza, quesadillas, tacos, and tortas. To group neighborhoods according to this predominance, we implement k-means clustering. Our cluster analysis yields 5 groups of neighborhoods well differentiated and that reflect the food preference in every neighborhood in Mexico City.\n",
    "\n",
    "This information might be helpful to decide where to start a new business, depending on the type of food we want to offer. Le't say we want to start a new quesadillas bussiness, then we now know that in neighborhoods in cluster 2 there is high demand for this type of food given the predominance of these bussinesses. At the same time, this also implies there is high competition here. "
   ]
  }
 ],
 "metadata": {
  "kernelspec": {
   "display_name": "Python 3",
   "language": "python",
   "name": "python3"
  },
  "language_info": {
   "codemirror_mode": {
    "name": "ipython",
    "version": 3
   },
   "file_extension": ".py",
   "mimetype": "text/x-python",
   "name": "python",
   "nbconvert_exporter": "python",
   "pygments_lexer": "ipython3",
   "version": "3.6.5"
  }
 },
 "nbformat": 4,
 "nbformat_minor": 4
}
