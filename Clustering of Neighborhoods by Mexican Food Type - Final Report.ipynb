{
 "cells": [
  {
   "cell_type": "markdown",
   "metadata": {},
   "source": [
    "# Clustering of Neighborhoods by Mexican Food Type: Final Report"
   ]
  },
  {
   "cell_type": "markdown",
   "metadata": {},
   "source": [
    "## Introduction"
   ]
  },
  {
   "cell_type": "markdown",
   "metadata": {},
   "source": [
    "Let's say we are in the food bussiness, especifically, the mexican street food (e.g. tacos, tortas, pizza, etc.) and we want to start new branches in Mexico City. How can we decide where to place our new branches? We would like to avoid high competition, but at the same time we want to be in places with great demand for our type of food. If for instance we want to sell tacos, what locations in the city might be the best to place our branches?"
   ]
  },
  {
   "cell_type": "markdown",
   "metadata": {},
   "source": [
    "## Data"
   ]
  },
  {
   "cell_type": "markdown",
   "metadata": {},
   "source": [
    "1. We firstly collect postal codes for Mexico City from:\n",
    "\n",
    "* https://www.correosdemexico.gob.mx/SSLServicios/ConsultaCP/CodigoPostal_Exportar.aspx\n",
    "\n",
    "    This data is used to obtain geo-coordinates for each neighborhood in Mexico City by using the _pgeocode_ library.\n",
    "    \n",
    "2. Then, we use the [Foursquare API](https://developer.foursquare.com/developer/) to collect trending venues in each neighborhood. We clean the resulting dataset to keep only mexican food venues. This final dataset is the input for our clustering analysis."
   ]
  },
  {
   "cell_type": "code",
   "execution_count": null,
   "metadata": {},
   "outputs": [],
   "source": []
  }
 ],
 "metadata": {
  "kernelspec": {
   "display_name": "Python 3",
   "language": "python",
   "name": "python3"
  },
  "language_info": {
   "codemirror_mode": {
    "name": "ipython",
    "version": 3
   },
   "file_extension": ".py",
   "mimetype": "text/x-python",
   "name": "python",
   "nbconvert_exporter": "python",
   "pygments_lexer": "ipython3",
   "version": "3.6.5"
  }
 },
 "nbformat": 4,
 "nbformat_minor": 4
}
