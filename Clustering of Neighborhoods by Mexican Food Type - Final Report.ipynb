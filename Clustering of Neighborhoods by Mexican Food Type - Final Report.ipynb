{
 "cells": [
  {
   "cell_type": "markdown",
   "metadata": {},
   "source": [
    "# Clustering of Neighborhoods by Mexican Food Type: Final Report"
   ]
  },
  {
   "cell_type": "markdown",
   "metadata": {},
   "source": [
    "## Introduction"
   ]
  },
  {
   "cell_type": "markdown",
   "metadata": {},
   "source": [
    "Let's say we are in the food bussiness, especifically, the mexican street food (e.g. tacos, tortas, pizza, etc.) and we want to start new branches in Mexico City. How can we decide where to place our new branches? We would like to avoid high competition, but at the same time we want to be in places with great demand for our type of food. If for instance we want to sell tacos, what locations in the city might be the best to place our branches?\n",
    "\n",
    "To try to answer these questions, I cluster neighborhoods in Mexico City according to the presence of a couple of mexican food types: quesadillas, tacos, pizza, tortas, and hamburgers. To collect this data I use the Foursquare API. Then, I implement k-means clustering to group neighborhoods into clusters that help to identify neighborhoods where a type of food is prefered. This will indicate where there is high competition in certain food types and where there is high demand for that food type."
   ]
  },
  {
   "cell_type": "markdown",
   "metadata": {},
   "source": [
    "## Data"
   ]
  },
  {
   "cell_type": "markdown",
   "metadata": {},
   "source": [
    "1. We firstly collect postal codes for Mexico City from the Mexican Postal Service's website:\n",
    "\n",
    "* https://www.correosdemexico.gob.mx/SSLServicios/ConsultaCP/CodigoPostal_Exportar.aspx\n",
    "\n",
    "    This data is used to obtain geo-coordinates for each neighborhood in Mexico City by using the _pgeocode_ library.\n",
    "    \n",
    "    A sample of these data looks like this:\n",
    "| Index | Postal Code | Neighborhood    | Borough                        | Latitude | Longitude |\n",
    "|-------|-------------|-----------------|--------------------------------|----------|-----------|\n",
    "| 0     | 01000       | San Ángel       | Álvaro Obregón                 | 19.3587  | -99.20330 |\n",
    "| 1     | 01010       | Los Alpes       | Álvaro Obregón                 | 19.3569  | -99.21000 |\n",
    "| 2     | 01020       | Guadalupe Inn   | Álvaro Obregón                 | 19.5161  | -99.14190 |\n",
    "| 3     | 01030       | Axotla, Florida | Álvaro Obregón, Álvaro Obregón | 19.3556  | -99.17835 |\n",
    "| 4     | 01040       | Campestre       | Álvaro Obregón                 | 19.3556  | -99.19180 |\n",
    "    \n",
    "2. Once we have postal codes for each negihborhood, we use the [Foursquare API](https://developer.foursquare.com/developer/) to collect trending venues in each neighborhood. \n",
    "    This dataset looks like this:\n",
    "    \n",
    "    | Index | Neighborhood     | Borough | Neighborhood Latitude | Neighborhood Longitude | Venue                           | Latitude  | Longitude  | Venue Category     |\n",
    "|-------|------------------|---------|-----------------------|------------------------|---------------------------------|-----------|------------|--------------------|\n",
    "| 22103 | San Pedro Mártir | Tlalpan | 19.2665               | -99.17                 | Centro de nutrición Casa Blanca | 19.265388 | -99.167554 | Athletics & Sports |\n",
    "| 22104 | San Pedro Mártir | Tlalpan | 19.2665               | -99.17                 | Las Quekas De \"Don Fer\"         | 19.265361 | -99.167104 | Snack Place        |\n",
    "| 22105 | San Pedro Mártir | Tlalpan | 19.2665               | -99.17                 | Café Añu                        | 19.265204 | -99.166857 | Snack Place        |\n",
    "| 22106 | San Pedro Mártir | Tlalpan | 19.2665               | -99.17                 | The Food Stop                   | 19.268408 | -99.166852 | Food Truck         |\n",
    "| 22107 | San Pedro Mártir | Tlalpan | 19.2665               | -99.17                 | Aqua Sur                        | 19.265319 | -99.165622 | Gym Pool           |\n",
    "    \n",
    "    We clean the resulting dataset to keep only mexican food venues. This final dataset is the input for our clustering analysis."
   ]
  },
  {
   "cell_type": "markdown",
   "metadata": {},
   "source": [
    "## Methodology"
   ]
  },
  {
   "cell_type": "markdown",
   "metadata": {},
   "source": [
    "Methodology section which represents the main component of the report where you discuss and describe any exploratory data analysis that you did, any inferential statistical testing that you performed, if any, and what machine learnings were used and why.\n",
    "\n"
   ]
  }
 ],
 "metadata": {
  "kernelspec": {
   "display_name": "Python 3",
   "language": "python",
   "name": "python3"
  },
  "language_info": {
   "codemirror_mode": {
    "name": "ipython",
    "version": 3
   },
   "file_extension": ".py",
   "mimetype": "text/x-python",
   "name": "python",
   "nbconvert_exporter": "python",
   "pygments_lexer": "ipython3",
   "version": "3.6.5"
  }
 },
 "nbformat": 4,
 "nbformat_minor": 4
}
